{
 "cells": [
  {
   "cell_type": "code",
   "execution_count": 1,
   "metadata": {},
   "outputs": [],
   "source": [
    "import numpy as np\n",
    "import matplotlib.pyplot as plt\n",
    "from sklearn.metrics import roc_curve,recall_score,precision_score,confusion_matrix"
   ]
  },
  {
   "cell_type": "code",
   "execution_count": 37,
   "metadata": {},
   "outputs": [],
   "source": [
    "n_y = 1000\n",
    "y_pred = np.random.rand(n_y)\n",
    "y_true = np.round(y_pred)\n",
    "\n",
    "\n",
    "idx_change = np.random.choice(n_y,300,replace=False)\n",
    "y_true[idx_change] = 1 - y_true[idx_change]"
   ]
  },
  {
   "cell_type": "code",
   "execution_count": 38,
   "metadata": {},
   "outputs": [],
   "source": [
    "n_p = 100\n",
    "threshold_vec = np.linspace(0,1,n_p)\n",
    "\n",
    "tpr = np.zeros(n_p)\n",
    "fpr = np.zeros(n_p)\n",
    "\n",
    "for i in range(n_p):\n",
    "    threshold = threshold_vec[i]\n",
    "    \n",
    "    true_positive = np.sum((y_pred > threshold) & (y_true==1.0))\n",
    "    false_positive = np.sum((y_pred > threshold) & (y_true==0.0))\n",
    "    false_negative = np.sum((y_pred < threshold) & (y_true==1.0))\n",
    "    true_negative = np.sum((y_pred < threshold) & (y_true==0.0))\n",
    "\n",
    "    true_positive_rate = true_positive/(true_positive + false_negative)\n",
    "    false_positive_rate = false_positive/(false_positive + true_negative)\n",
    "\n",
    "    tpr[i] = true_positive_rate\n",
    "    fpr[i] = false_positive_rate\n",
    "    "
   ]
  },
  {
   "cell_type": "code",
   "execution_count": 62,
   "metadata": {},
   "outputs": [],
   "source": [
    "fpr_sk,tpr_sk,_ = roc_curve(y_true,y_pred)"
   ]
  },
  {
   "cell_type": "code",
   "execution_count": 65,
   "metadata": {},
   "outputs": [
    {
     "data": {
      "image/png": "[encoded data removed]",
      "text/plain": [
       "<Figure size 360x360 with 1 Axes>"
      ]
     },
     "metadata": {
      "needs_background": "light"
     },
     "output_type": "display_data"
    }
   ],
   "source": [
    "plt.figure(figsize=(5,5))\n",
    "plt.plot(fpr,tpr)\n",
    "plt.plot(fpr_sk,tpr_sk,'--')\n",
    "plt.show()"
   ]
  },
  {
   "cell_type": "code",
   "execution_count": null,
   "metadata": {},
   "outputs": [],
   "source": []
  },
  {
   "cell_type": "code",
   "execution_count": 40,
   "metadata": {},
   "outputs": [
    {
     "data": {
      "text/plain": [
       "array([[367, 155],\n",
       "       [145, 333]])"
      ]
     },
     "execution_count": 40,
     "metadata": {},
     "output_type": "execute_result"
    }
   ],
   "source": [
    "confusion_matrix(np.round(y_pred),y_true)"
   ]
  },
  {
   "cell_type": "code",
   "execution_count": 59,
   "metadata": {},
   "outputs": [
    {
     "data": {
      "text/plain": [
       "array([[367, 155],\n",
       "       [145, 333]])"
      ]
     },
     "execution_count": 59,
     "metadata": {},
     "output_type": "execute_result"
    }
   ],
   "source": [
    "true_positive = np.sum((y_pred > 0.5) & (y_true==1.0))\n",
    "false_positive = np.sum((y_pred > 0.5) & (y_true==0.0))\n",
    "false_negative = np.sum((y_pred < 0.5) & (y_true==1.0))\n",
    "true_negative = np.sum((y_pred < 0.5) & (y_true==0.0))\n",
    "\n",
    "#print('{:d}'.format(true_positive))\n",
    "np.array([[true_negative,false_negative],[false_positive,true_positive]])"
   ]
  }
 ],
 "metadata": {
  "kernelspec": {
   "display_name": "Python 3",
   "language": "python",
   "name": "python3"
  },
  "language_info": {
   "codemirror_mode": {
    "name": "ipython",
    "version": 3
   },
   "file_extension": ".py",
   "mimetype": "text/x-python",
   "name": "python",
   "nbconvert_exporter": "python",
   "pygments_lexer": "ipython3",
   "version": "3.7.6"
  }
 },
 "nbformat": 4,
 "nbformat_minor": 4
}
